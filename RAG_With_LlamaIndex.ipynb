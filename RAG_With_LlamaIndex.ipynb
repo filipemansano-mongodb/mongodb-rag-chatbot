{
  "nbformat": 4,
  "nbformat_minor": 0,
  "metadata": {
    "colab": {
      "provenance": [],
      "authorship_tag": "ABX9TyNoDmBd0QDkyyrbNwchAL8T",
      "include_colab_link": true
    },
    "kernelspec": {
      "name": "python3",
      "display_name": "Python 3"
    },
    "language_info": {
      "name": "python"
    }
  },
  "cells": [
    {
      "cell_type": "markdown",
      "metadata": {
        "id": "view-in-github",
        "colab_type": "text"
      },
      "source": [
        "<a href=\"https://colab.research.google.com/github/filipemansano-mongodb/mongodb-rag-chatbot/blob/main/RAG_With_LlamaIndex.ipynb\" target=\"_parent\"><img src=\"https://colab.research.google.com/assets/colab-badge.svg\" alt=\"Open In Colab\"/></a>"
      ]
    },
    {
      "cell_type": "code",
      "execution_count": null,
      "metadata": {
        "id": "N_naDQd1mdsM"
      },
      "outputs": [],
      "source": [
        "%%capture\n",
        "!pip install llama-index\n",
        "!pip install llama-index-vector-stores-mongodb\n",
        "!pip install llama-index-embeddings-openai\n",
        "!pip install pymongo"
      ]
    },
    {
      "cell_type": "code",
      "source": [
        "import json\n",
        "from llama_index.core import Document\n",
        "from llama_index.core.schema import MetadataMode\n",
        "import json\n",
        "\n",
        "# sample\n",
        "#{\n",
        "#  \"description\": \"Paciente queixa-se de dor de cabeça persistente e tontura há dois dias. Não há febre, mas tem dificuldade para dormir.\",\n",
        "#  \"date\": \"12/04/2024 10:15:00\",\n",
        "#  \"patient_name\": \"Marcia Silva\",\n",
        "#  \"patient_age\": 28,\n",
        "#  \"sedentary\": \"Não\",\n",
        "#  \"clinic_id\": 1,\n",
        "#  \"symptoms\": \"Dor de cabeça, tontura, insônia\",\n",
        "#  \"medicine_prescriptions\": \"Paracetamol 500mg, Dramin\"\n",
        "#},\n",
        "\n",
        "filepath = \"/content/sample_data/patients.json\";\n",
        "\n",
        "with open(filepath, 'r') as f:\n",
        "    data = json.load(f)\n",
        "\n",
        "llama_documents = [];\n",
        "\n",
        "for document in data:\n",
        "\n",
        "  # Value for metadata fields must be one of (str, int, float, None)\n",
        "  llama_document = Document(\n",
        "    text=document[\"description\"],\n",
        "    metadata=document,\n",
        "    excluded_llm_metadata_keys=[\"description\", \"clinic_id\"],\n",
        "    excluded_embed_metadata_keys=[\"description\", \"sedentary\", \"clinic_id\"],\n",
        "    metadata_template=\"{key}=>{value}\",\n",
        "    text_template=\"Metadata: {metadata_str}\\n-----\\nContent: {content}\",\n",
        "  )\n",
        "\n",
        "  llama_documents.append(llama_document)\n",
        "\n",
        "print(\"LLM Metada\\n\", llama_documents[0].get_content(metadata_mode=MetadataMode.LLM))\n",
        "print(\"\\n\\nEmbed Metada\\n\", llama_documents[0].get_content(metadata_mode=MetadataMode.EMBED))"
      ],
      "metadata": {
        "colab": {
          "base_uri": "https://localhost:8080/"
        },
        "id": "RPIWj4wkmmkW",
        "outputId": "9fe10883-2ff0-4ffc-e747-6e8a8903f963"
      },
      "execution_count": null,
      "outputs": [
        {
          "output_type": "stream",
          "name": "stdout",
          "text": [
            "LLM Metada\n",
            " Metadata: date=>12/04/2024 10:15:00\n",
            "patient_name=>Marcia Silva\n",
            "patient_age=>28\n",
            "sedentary=>Não\n",
            "symptoms=>Dor de cabeça, tontura, insônia\n",
            "medicine_prescriptions=>Paracetamol 500mg, Dramin\n",
            "-----\n",
            "Content: Paciente queixa-se de dor de cabeça persistente e tontura há dois dias. Não há febre, mas tem dificuldade para dormir.\n",
            "\n",
            "\n",
            "Embed Metada\n",
            " Metadata: date=>12/04/2024 10:15:00\n",
            "patient_name=>Marcia Silva\n",
            "patient_age=>28\n",
            "symptoms=>Dor de cabeça, tontura, insônia\n",
            "medicine_prescriptions=>Paracetamol 500mg, Dramin\n",
            "-----\n",
            "Content: Paciente queixa-se de dor de cabeça persistente e tontura há dois dias. Não há febre, mas tem dificuldade para dormir.\n"
          ]
        }
      ]
    },
    {
      "cell_type": "code",
      "source": [
        "# configuring openai model\n",
        "from llama_index.core.settings import Settings\n",
        "from llama_index.llms.openai import OpenAI\n",
        "from llama_index.embeddings.openai import OpenAIEmbedding\n",
        "from google.colab import userdata\n",
        "import os\n",
        "\n",
        "os.environ[\"OPENAI_API_KEY\"] = userdata.get('openai_api_key')\n",
        "\n",
        "embed_model=OpenAIEmbedding(\n",
        "  model=\"text-embedding-3-small\",\n",
        "  dimensions=256\n",
        ")\n",
        "\n",
        "llm=OpenAI()\n",
        "Settings.llm=llm\n",
        "Settings.embed_model=embed_model"
      ],
      "metadata": {
        "id": "WMpGAAPzu2G8"
      },
      "execution_count": null,
      "outputs": []
    },
    {
      "cell_type": "code",
      "source": [
        "# creating nodes from LLhamaIndex Documents\n",
        "from llama_index.core.node_parser import SentenceSplitter\n",
        "\n",
        "parser = SentenceSplitter()\n",
        "nodes = parser.get_nodes_from_documents(llama_documents)\n",
        "\n",
        "for node in nodes:\n",
        "    node_embedding = embed_model.get_text_embedding(\n",
        "        node.get_content(metadata_mode=\"all\")\n",
        "    )\n",
        "    node.embedding = node_embedding"
      ],
      "metadata": {
        "id": "M0CY9tieugZ5"
      },
      "execution_count": null,
      "outputs": []
    },
    {
      "cell_type": "code",
      "source": [
        "# creating mongodb connection\n",
        "import pymongo\n",
        "from google.colab import userdata\n",
        "\n",
        "def get_mongo_client(mongo_uri):\n",
        "  \"\"\"Establish connection to the MongoDB.\"\"\"\n",
        "  try:\n",
        "    client = pymongo.MongoClient(mongo_uri)\n",
        "    print(\"Connection to MongoDB successful\")\n",
        "    return client\n",
        "  except pymongo.errors.ConnectionFailure as e:\n",
        "    print(f\"Connection failed: {e}\")\n",
        "    return None\n",
        "\n",
        "mongo_uri = userdata.get('MONGO_URI')\n",
        "if not mongo_uri:\n",
        "  print(\"MONGO_URI not set in environment variables\")\n",
        "\n",
        "mongo_client = get_mongo_client(mongo_uri)"
      ],
      "metadata": {
        "colab": {
          "base_uri": "https://localhost:8080/"
        },
        "id": "aIb8eUa7qs7Q",
        "outputId": "01212d2a-c2d7-4cf6-de0c-c6b32d45f498"
      },
      "execution_count": null,
      "outputs": [
        {
          "output_type": "stream",
          "name": "stdout",
          "text": [
            "Connection to MongoDB successful\n"
          ]
        }
      ]
    },
    {
      "cell_type": "code",
      "source": [
        "# create vector search index\n",
        "index = {\n",
        "  \"definition\": {\n",
        "    \"fields\": [\n",
        "          {\n",
        "              \"numDimensions\": 256,\n",
        "              \"path\": \"embedding\",\n",
        "              \"similarity\": \"cosine\",\n",
        "              \"type\": \"vector\"\n",
        "          },\n",
        "          {\n",
        "              \"path\": \"metadata.clinic_id\",\n",
        "              \"type\": \"filter\"\n",
        "          }\n",
        "      ],\n",
        "  },\n",
        "  \"name\": \"vector_index\",\n",
        "  \"type\": \"vectorSearch\",\n",
        "}\n",
        "\n",
        "mongo_client.test.command({\n",
        "    \"createSearchIndexes\": \"rag\",\n",
        "    \"indexes\": [index]\n",
        "  }\n",
        ")"
      ],
      "metadata": {
        "colab": {
          "base_uri": "https://localhost:8080/"
        },
        "id": "Nne-Iu0nr_PD",
        "outputId": "9a6e7ca0-ac97-461d-f062-3c97730af9f1"
      },
      "execution_count": null,
      "outputs": [
        {
          "output_type": "execute_result",
          "data": {
            "text/plain": [
              "{'indexesCreated': [{'id': '661eac0a27b98a1249aecce3',\n",
              "   'name': 'vector_index'}],\n",
              " 'ok': 1.0,\n",
              " '$clusterTime': {'clusterTime': Timestamp(1713286154, 1),\n",
              "  'signature': {'hash': b't\\xc1\\x01\\xc5\\x87\\xe7P\\x1aSo\\xfcg\\xc5\\x92 \\xadVhg\\x80',\n",
              "   'keyId': 7339894402132738054}},\n",
              " 'operationTime': Timestamp(1713286154, 1)}"
            ]
          },
          "metadata": {},
          "execution_count": 6
        }
      ]
    },
    {
      "cell_type": "code",
      "source": [
        "# clear all results\n",
        "mongo_client.test.rag.delete_many({})"
      ],
      "metadata": {
        "colab": {
          "base_uri": "https://localhost:8080/"
        },
        "id": "XlJtuLSdrwy1",
        "outputId": "4b33767d-4f8d-4088-c4b4-d189832dfd59"
      },
      "execution_count": null,
      "outputs": [
        {
          "output_type": "execute_result",
          "data": {
            "text/plain": [
              "DeleteResult({'n': 0, 'electionId': ObjectId('7fffffff000000000000001b'), 'opTime': {'ts': Timestamp(1713286233, 1), 't': 27}, 'ok': 1.0, '$clusterTime': {'clusterTime': Timestamp(1713286233, 1), 'signature': {'hash': b':\\xe7\\xe2\\xab\\x92M\\xe2vt\\x08\\xd6\\xc8p\\x119\\xf8\\x17_S\\xf5', 'keyId': 7339894402132738054}}, 'operationTime': Timestamp(1713286233, 1)}, acknowledged=True)"
            ]
          },
          "metadata": {},
          "execution_count": 7
        }
      ]
    },
    {
      "cell_type": "code",
      "source": [
        "from llama_index.vector_stores.mongodb import MongoDBAtlasVectorSearch\n",
        "\n",
        "vector_store = MongoDBAtlasVectorSearch(\n",
        "  mongo_client,\n",
        "  db_name=\"test\",\n",
        "  collection_name=\"rag\",\n",
        "  index_name=\"vector_index\"\n",
        ")\n",
        "\n",
        "vector_store.add(nodes)"
      ],
      "metadata": {
        "colab": {
          "base_uri": "https://localhost:8080/"
        },
        "id": "bKy6dFmTszEj",
        "outputId": "f44ced51-331c-45cc-808c-af793c60eae2"
      },
      "execution_count": null,
      "outputs": [
        {
          "output_type": "execute_result",
          "data": {
            "text/plain": [
              "['67e8a0c1-2b70-407c-974f-c7c38e45b9fe',\n",
              " '6ebf1320-8d0d-4789-bc49-b91777700da1',\n",
              " '10761f2e-40ce-4b0d-ae23-3e62484a4395',\n",
              " '00130cde-89ae-4245-9c26-310fdb4fd603',\n",
              " '424d7c77-7903-4470-9678-b42accc3a4a6',\n",
              " 'b3741d57-e94f-4afb-851d-33b2e2f5ce82',\n",
              " '079166ef-3e3a-4046-a1b3-15ac8ecac97f',\n",
              " 'e2f94832-19c4-4453-ba5f-bb4a99114af5']"
            ]
          },
          "metadata": {},
          "execution_count": 8
        }
      ]
    },
    {
      "cell_type": "code",
      "source": [
        "# testing if the nodes was inserted correctfully\n",
        "mongo_client.test.rag.find_one({}, {\"embedding\": 0, \"metadata._node_content\": 0})"
      ],
      "metadata": {
        "id": "74z0pQoOxRUP",
        "colab": {
          "base_uri": "https://localhost:8080/"
        },
        "outputId": "ae3f0558-e8d0-4b05-fa35-aa1059b930b6"
      },
      "execution_count": null,
      "outputs": [
        {
          "output_type": "execute_result",
          "data": {
            "text/plain": [
              "{'_id': ObjectId('661eac5dd770de712246287b'),\n",
              " 'id': '67e8a0c1-2b70-407c-974f-c7c38e45b9fe',\n",
              " 'text': 'Paciente queixa-se de dor de cabeça persistente e tontura há dois dias. Não há febre, mas tem dificuldade para dormir.',\n",
              " 'metadata': {'description': 'Paciente queixa-se de dor de cabeça persistente e tontura há dois dias. Não há febre, mas tem dificuldade para dormir.',\n",
              "  'date': '12/04/2024 10:15:00',\n",
              "  'patient_name': 'Marcia Silva',\n",
              "  'patient_age': 28,\n",
              "  'sedentary': 'Não',\n",
              "  'clinic_id': 1,\n",
              "  'symptoms': 'Dor de cabeça, tontura, insônia',\n",
              "  'medicine_prescriptions': 'Paracetamol 500mg, Dramin',\n",
              "  '_node_type': 'TextNode',\n",
              "  'document_id': 'bf137d69-cfe8-4109-a1ec-dfb907b2be62',\n",
              "  'doc_id': 'bf137d69-cfe8-4109-a1ec-dfb907b2be62',\n",
              "  'ref_doc_id': 'bf137d69-cfe8-4109-a1ec-dfb907b2be62'}}"
            ]
          },
          "metadata": {},
          "execution_count": 9
        }
      ]
    },
    {
      "cell_type": "code",
      "source": [
        "# creating the chat bot\n",
        "from llama_index.core.response.notebook_utils import display_response\n",
        "from llama_index.core import VectorStoreIndex, StorageContext\n",
        "from llama_index.core.vector_stores.types import MetadataFilters, ExactMatchFilter\n",
        "from llama_index.core.memory import ChatMemoryBuffer\n",
        "\n",
        "memory = ChatMemoryBuffer.from_defaults(token_limit=1500)\n",
        "index = VectorStoreIndex.from_vector_store(vector_store)\n",
        "\n",
        "chat_engine = index.as_chat_engine(\n",
        "    chat_mode=\"context\",\n",
        "    filters=MetadataFilters(\n",
        "        filters=[\n",
        "            ExactMatchFilter(\n",
        "                key=\"metadata.clinic_id\",\n",
        "                value=3,\n",
        "            )\n",
        "        ]\n",
        "    ),\n",
        "    memory=memory,\n",
        "    system_prompt=(\n",
        "        \"Você é um chatbot que atuara como assistente de uma clinica\"\n",
        "        \" você irá responder sobre qualquer dúvida de forma objetiva em relação aos pacientes da clínica.\"\n",
        "    ),\n",
        ")"
      ],
      "metadata": {
        "id": "K1i0MUGNx48N"
      },
      "execution_count": null,
      "outputs": []
    },
    {
      "cell_type": "code",
      "source": [
        "query = \"qual foi a última vez que o paciente Filipe Mansano esteve na clínica?\"\n",
        "response = chat_engine.chat(query)\n",
        "display_response(response)"
      ],
      "metadata": {
        "colab": {
          "base_uri": "https://localhost:8080/",
          "height": 46
        },
        "id": "DwGZFK4A397g",
        "outputId": "f2b3af6e-3c64-4649-cc37-b19a84795d41"
      },
      "execution_count": null,
      "outputs": [
        {
          "output_type": "display_data",
          "data": {
            "text/plain": [
              "<IPython.core.display.Markdown object>"
            ],
            "text/markdown": "**`Final Response:`** A última consulta do paciente Filipe Mansano na clínica foi em 26/04/2024 às 15:30."
          },
          "metadata": {}
        }
      ]
    },
    {
      "cell_type": "code",
      "source": [
        "query = \"e oque foi receitado para ele?\"\n",
        "response = chat_engine.chat(query)\n",
        "display_response(response)"
      ],
      "metadata": {
        "colab": {
          "base_uri": "https://localhost:8080/",
          "height": 104
        },
        "id": "fz5iP4TPyamj",
        "outputId": "83efdc03-a9d9-45d5-b565-3a33a5026dbc"
      },
      "execution_count": null,
      "outputs": [
        {
          "output_type": "display_data",
          "data": {
            "text/plain": [
              "<IPython.core.display.Markdown object>"
            ],
            "text/markdown": "**`Final Response:`** Na última consulta, foram prescritos os seguintes medicamentos para o paciente Filipe Mansano:\n- Dipirona 500mg\n- Repouso\n- Aumento de líquidos"
          },
          "metadata": {}
        }
      ]
    },
    {
      "cell_type": "code",
      "source": [
        "query = \"ele esteve outros dias na clinica além do dia 12?\"\n",
        "response = chat_engine.chat(query)\n",
        "display_response(response)"
      ],
      "metadata": {
        "colab": {
          "base_uri": "https://localhost:8080/",
          "height": 103
        },
        "id": "-hS3IObu0Xcw",
        "outputId": "4d1a23fc-de11-4d6b-d116-2f0fc73fd9a9"
      },
      "execution_count": null,
      "outputs": [
        {
          "output_type": "display_data",
          "data": {
            "text/plain": [
              "<IPython.core.display.Markdown object>"
            ],
            "text/markdown": "**`Final Response:`** Sim, o paciente Filipe Mansano esteve na clínica em duas ocasiões:\n1. No dia 12/04/2024, relatando dores no corpo, febre e náuseas, e foram prescritos os medicamentos Vonal, dipirona e Dorflex.\n2. No dia 26/04/2024, relatando fadiga e dores musculares ocasionais, e foram prescritos Dorflex e recomendação para fisioterapia."
          },
          "metadata": {}
        }
      ]
    },
    {
      "cell_type": "code",
      "source": [
        "query = \"me resume a vida do paciente Filipe Mansano\"\n",
        "response = chat_engine.chat(query)\n",
        "display_response(response)"
      ],
      "metadata": {
        "id": "61n9JYNJ65ax",
        "outputId": "31485292-6991-42cd-b8ec-b316cf69ba27",
        "colab": {
          "base_uri": "https://localhost:8080/",
          "height": 81
        }
      },
      "execution_count": null,
      "outputs": [
        {
          "output_type": "display_data",
          "data": {
            "text/plain": [
              "<IPython.core.display.Markdown object>"
            ],
            "text/markdown": "**`Final Response:`** O paciente Filipe Mansano, de 31 anos, é sedentário e tem relatado sintomas como fadiga, dores musculares, dores no corpo, febre leve e náuseas em suas consultas na clínica. Ele recebeu prescrições de medicamentos como Dipirona 500mg, Vonal e Dorflex, além de recomendações de repouso, aumento de líquidos e fisioterapia."
          },
          "metadata": {}
        }
      ]
    }
  ]
}